{
 "cells": [
  {
   "cell_type": "markdown",
   "id": "18b835a5-e46d-4783-96f3-d04750547ae6",
   "metadata": {
    "tags": []
   },
   "source": [
    "# Data Science Tools and Ecosystem"
   ]
  },
  {
   "cell_type": "markdown",
   "id": "4b0971ab-4636-4002-a446-1754282e320b",
   "metadata": {
    "tags": []
   },
   "source": [
    "#### In this notebook, Data Science Tools and Ecosystem are summarized."
   ]
  },
  {
   "cell_type": "markdown",
   "id": "b7df7dc9-02d4-492b-b49f-5e4688d2c862",
   "metadata": {},
   "source": [
    "##### Some of the popular languages that Data Scientists use are:\n",
    "1. Python\n",
    "2. R\n",
    "3. SQL"
   ]
  },
  {
   "cell_type": "markdown",
   "id": "08bdd4e2-40c4-4775-bbfe-e73f9b135f22",
   "metadata": {},
   "source": [
    "##### Some of the commonly used libraries used by Data Scientists include:\n",
    "1. NumPy\n",
    "2. SciPy\n",
    "3. Matplotlib"
   ]
  },
  {
   "cell_type": "markdown",
   "id": "47ad337c-25f4-43cf-83cf-d21edfa79b05",
   "metadata": {},
   "source": [
    "| Data Science Tools |\n",
    "| --- |\n",
    "| Jupyter Notebook |\n",
    "| R Studio |\n",
    "| Spyder | "
   ]
  },
  {
   "cell_type": "markdown",
   "id": "7ffe302b-8b93-494c-bcae-9b49871b2f20",
   "metadata": {},
   "source": [
    "### Below are a few examples of evaluating arithmetic expressions in Python."
   ]
  },
  {
   "cell_type": "code",
   "execution_count": 1,
   "id": "69c7f169-cfb5-422b-a288-ffb50bfbd2a9",
   "metadata": {
    "tags": []
   },
   "outputs": [
    {
     "data": {
      "text/plain": [
       "17"
      ]
     },
     "execution_count": 1,
     "metadata": {},
     "output_type": "execute_result"
    }
   ],
   "source": [
    "(3*4)+5"
   ]
  },
  {
   "cell_type": "code",
   "execution_count": 4,
   "id": "4a785bf9-8c20-4dd0-890d-52717097bc7a",
   "metadata": {
    "tags": []
   },
   "outputs": [
    {
     "data": {
      "text/plain": [
       "3.3333333333333335"
      ]
     },
     "execution_count": 4,
     "metadata": {},
     "output_type": "execute_result"
    }
   ],
   "source": [
    "# Convert 200 minutes into hours\n",
    "200/60"
   ]
  },
  {
   "cell_type": "markdown",
   "id": "6d8e1e77-175f-498f-9239-95140bf7fddd",
   "metadata": {},
   "source": [
    "**Objectives:**\n",
    "* List popular languages for Data Science \n",
    "* List commonly used libraries for Data Science\n",
    "* List open source Data Science Tools for Data Science"
   ]
  },
  {
   "cell_type": "markdown",
   "id": "5ceef136-3212-4cf8-a1d8-d33c7cff4c33",
   "metadata": {},
   "source": [
    "## Author\n",
    "Wendy Walton"
   ]
  },
  {
   "cell_type": "code",
   "execution_count": null,
   "id": "df18e09f-6de8-4733-88f0-71cc5e23db4a",
   "metadata": {},
   "outputs": [],
   "source": []
  }
 ],
 "metadata": {
  "kernelspec": {
   "display_name": "Python",
   "language": "python",
   "name": "conda-env-python-py"
  },
  "language_info": {
   "codemirror_mode": {
    "name": "ipython",
    "version": 3
   },
   "file_extension": ".py",
   "mimetype": "text/x-python",
   "name": "python",
   "nbconvert_exporter": "python",
   "pygments_lexer": "ipython3",
   "version": "3.7.12"
  }
 },
 "nbformat": 4,
 "nbformat_minor": 5
}
